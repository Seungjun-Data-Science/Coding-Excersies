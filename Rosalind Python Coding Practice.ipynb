{
 "cells": [
  {
   "cell_type": "markdown",
   "metadata": {},
   "source": [
    "(1) Rosalind - Variables and some Arithmetic\n",
    "\n",
    "- Given: Two positive integers a and b, each less than 1000.\n",
    "- Return: The integer corresponding to the square of the hypotenuse of the right triangle whose legs have lengths a and b."
   ]
  },
  {
   "cell_type": "code",
   "execution_count": 8,
   "metadata": {},
   "outputs": [
    {
     "data": {
      "text/plain": [
       "34"
      ]
     },
     "execution_count": 8,
     "metadata": {},
     "output_type": "execute_result"
    }
   ],
   "source": [
    "# Sample data: 3,5 || sample output: 34\n",
    "\n",
    "def square_of_hypotenuse(a,b):\n",
    "    return (a*a) + (b*b)\n",
    "\n",
    "square_of_hypotenuse(3,5)"
   ]
  },
  {
   "cell_type": "markdown",
   "metadata": {},
   "source": [
    "(2) Rosalind - Strings and List\n",
    "\n",
    "- Given: A string s of length at most 200 letters and four integers a, b, c and d.\n",
    "- Return: The slice of this string from indices a through b and c through d (with space in between), inclusively. In other words, we should include elements s[b] and s[d] in our slice."
   ]
  },
  {
   "cell_type": "code",
   "execution_count": 10,
   "metadata": {},
   "outputs": [],
   "source": [
    "# sample dataset: HumptyDumptysatonawallHumptyDumptyhadagreatfallAlltheKingshorsesandalltheKingsmenCouldntputHumptyDumptyinhisplaceagain\n",
    "# 22 27 97 102\n",
    "# sample output: Humpty Dumpty\n",
    "\n",
    "string = 'HumptyDumptysatonawallHumptyDumptyhadagreatfallAlltheKingshorsesandalltheKingsmenCouldntputHumptyDumptyinhisplaceagain'\n",
    "\n",
    "def slice_add(s,a,b,c,d):\n",
    "    return s[a:b+1] + \" \" + s[c:d+1]"
   ]
  },
  {
   "cell_type": "code",
   "execution_count": 11,
   "metadata": {},
   "outputs": [
    {
     "data": {
      "text/plain": [
       "'Humpty Dumpty'"
      ]
     },
     "execution_count": 11,
     "metadata": {},
     "output_type": "execute_result"
    }
   ],
   "source": [
    "slice_add(string, 22, 27, 97, 102)"
   ]
  },
  {
   "cell_type": "markdown",
   "metadata": {},
   "source": [
    "(3) Rosalind - Conditions and Loops\n",
    "\n",
    "- Given: Two positive integers a and b (a<b<10000).\n",
    "- Return: The sum of all odd integers from a through b, inclusively."
   ]
  },
  {
   "cell_type": "code",
   "execution_count": 12,
   "metadata": {},
   "outputs": [],
   "source": [
    "# sample dataset: 100 200\n",
    "# sample output: 7500\n",
    "\n",
    "def add_only_odd(a,b):\n",
    "    total = 0\n",
    "    for i in range(a,b+1):\n",
    "        if i % 2 != 0:\n",
    "            total += i\n",
    "    return total"
   ]
  },
  {
   "cell_type": "code",
   "execution_count": 13,
   "metadata": {},
   "outputs": [
    {
     "data": {
      "text/plain": [
       "7500"
      ]
     },
     "execution_count": 13,
     "metadata": {},
     "output_type": "execute_result"
    }
   ],
   "source": [
    "add_only_odd(100,200)"
   ]
  },
  {
   "cell_type": "markdown",
   "metadata": {},
   "source": [
    "(4) Rosalind - Dictionaries\n",
    "\n",
    "- Given: A string s of length at most 10000 letters.\n",
    "- Return: The number of occurrences of each word in s, where words are separated by spaces. Words are case-sensitive, and the lines in the output can be in any order.\n",
    "\n",
    "- sample dataset: We tried list and we tried dicts also we tried Zen\n",
    "- sample output: \n",
    "\n",
    "and 1\n",
    "\n",
    "We 1\n",
    "\n",
    "tried 3\n",
    "\n",
    "dicts 1\n",
    "\n",
    "list 1\n",
    "\n",
    "we 2\n",
    "\n",
    "also 1\n",
    "\n",
    "Zen 1"
   ]
  },
  {
   "cell_type": "code",
   "execution_count": 19,
   "metadata": {},
   "outputs": [],
   "source": [
    "string = 'We tried list and we tried dicts also we tried Zen'\n",
    "\n",
    "def count_word_in_string(s):\n",
    "    word_dict = dict()\n",
    "    words = s.split(\" \")\n",
    "    for w in words:\n",
    "        if w not in word_dict.keys():\n",
    "            word_dict[w] = 1\n",
    "        else:\n",
    "            word_dict[w] += 1\n",
    "    return word_dict"
   ]
  },
  {
   "cell_type": "code",
   "execution_count": 20,
   "metadata": {},
   "outputs": [
    {
     "data": {
      "text/plain": [
       "{'We': 1,\n",
       " 'Zen': 1,\n",
       " 'also': 1,\n",
       " 'and': 1,\n",
       " 'dicts': 1,\n",
       " 'list': 1,\n",
       " 'tried': 3,\n",
       " 'we': 2}"
      ]
     },
     "execution_count": 20,
     "metadata": {},
     "output_type": "execute_result"
    }
   ],
   "source": [
    "count_word_in_string(string)"
   ]
  }
 ],
 "metadata": {
  "kernelspec": {
   "display_name": "Python 3",
   "language": "python",
   "name": "python3"
  },
  "language_info": {
   "codemirror_mode": {
    "name": "ipython",
    "version": 3
   },
   "file_extension": ".py",
   "mimetype": "text/x-python",
   "name": "python",
   "nbconvert_exporter": "python",
   "pygments_lexer": "ipython3",
   "version": "3.6.6"
  }
 },
 "nbformat": 4,
 "nbformat_minor": 2
}
