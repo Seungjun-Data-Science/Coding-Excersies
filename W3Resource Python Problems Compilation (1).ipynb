{
 "cells": [
  {
   "cell_type": "markdown",
   "metadata": {},
   "source": [
    "### W3 Resource - Python Problems Compilation (1)"
   ]
  },
  {
   "cell_type": "markdown",
   "metadata": {},
   "source": [
    "https://www.w3resource.com/python-exercises/"
   ]
  },
  {
   "cell_type": "code",
   "execution_count": 1,
   "metadata": {
    "scrolled": true
   },
   "outputs": [
    {
     "name": "stdout",
     "output_type": "stream",
     "text": [
      "6\n",
      "6\n"
     ]
    }
   ],
   "source": [
    "# Write a Python program to sum of three given integers. However, if two values are equal sum will be zero.\n",
    "\n",
    "def sum_integers(x,y,z) :\n",
    "    if x==y or x==z or y==z:\n",
    "        return 0\n",
    "    else:\n",
    "        return x + y + z \n",
    "\n",
    "def sum_integers2(x, y, z):\n",
    "    if x == y or y == z or x==z:\n",
    "        sum = 0\n",
    "    else:\n",
    "        sum = x + y + z\n",
    "    return sum\n",
    "\n",
    "print(sum_integers(1, 2, 3))\n",
    "print(sum_integers2(1, 2, 3))"
   ]
  },
  {
   "cell_type": "code",
   "execution_count": 2,
   "metadata": {},
   "outputs": [
    {
     "name": "stdout",
     "output_type": "stream",
     "text": [
      "7\n",
      "20\n"
     ]
    }
   ],
   "source": [
    "# Write a Python program to sum of two given integers. However, if the sum is between 15 to 20 it will return 20\n",
    "\n",
    "def two_int_sum(x, y):\n",
    "    int_sum = x + y\n",
    "    if 15 < x + y < 20:\n",
    "        return 20\n",
    "    else:\n",
    "        return int_sum\n",
    "    \n",
    "print(two_int_sum(3, 4))\n",
    "print(two_int_sum(5, 13))"
   ]
  },
  {
   "cell_type": "code",
   "execution_count": 3,
   "metadata": {},
   "outputs": [
    {
     "name": "stdout",
     "output_type": "stream",
     "text": [
      "True\n",
      "True\n",
      "True\n"
     ]
    }
   ],
   "source": [
    "# Write a Python program that will return true if the two given integer values are equal or their sum or difference is 5\n",
    "\n",
    "def integ_value(x, y):\n",
    "    if x == y or abs(x-y) == 5 or x + y == 5:\n",
    "        return True\n",
    "    else:\n",
    "        return False\n",
    "    \n",
    "print(integ_value(3, 3))\n",
    "print(integ_value(3, 8))\n",
    "print(integ_value(10, 5))"
   ]
  },
  {
   "cell_type": "code",
   "execution_count": 4,
   "metadata": {},
   "outputs": [
    {
     "name": "stdout",
     "output_type": "stream",
     "text": [
      "7\n",
      "x and y are not integers\n",
      "None\n",
      "5\n"
     ]
    }
   ],
   "source": [
    "# Write a Python program to add two objects if both objects are an integer type.\n",
    "\n",
    "def add_object_if_integers(x, y):\n",
    "    if type(x) == int and type(y) == int:\n",
    "        return x + y\n",
    "    else:\n",
    "        print(\"x and y are not integers\")\n",
    "\n",
    "print(add_object_if_integers(3, 4))\n",
    "print(add_object_if_integers('ang', 'hang'))\n",
    "\n",
    "def add_object_if_integers2(a, b):\n",
    "    if not (isinstance(a, int) and isinstance(b, int)):\n",
    "         raise TypeError(\"Inputs must be integers\")\n",
    "    return a + b\n",
    "\n",
    "print(add_object_if_integers2(2, 3))"
   ]
  },
  {
   "cell_type": "code",
   "execution_count": 5,
   "metadata": {},
   "outputs": [
    {
     "name": "stdout",
     "output_type": "stream",
     "text": [
      "((4 + 3) ^ 2) = 49\n"
     ]
    }
   ],
   "source": [
    "# Write a Python program to solve (x + y) * (x + y)\n",
    "\n",
    "x, y = 4, 3\n",
    "result = x * x + 2 * x * y + y * y\n",
    "print(\"(({} + {}) ^ 2) = {}\".format(x, y, result))"
   ]
  },
  {
   "cell_type": "code",
   "execution_count": 6,
   "metadata": {},
   "outputs": [
    {
     "data": {
      "text/plain": [
       "6.324555320336759"
      ]
     },
     "execution_count": 6,
     "metadata": {},
     "output_type": "execute_result"
    }
   ],
   "source": [
    "# Write a Python program to compute the distance between the points (x1, y1) and (x2, y2)\n",
    "\n",
    "def distance_btw_points(pt1, pt2):\n",
    "    import math\n",
    "    result = math.sqrt((abs(pt1[0]-pt2[0]))**2 + (abs(pt1[1]-pt2[1]))**2)\n",
    "    return result\n",
    "\n",
    "point1 = (4, 0)\n",
    "point2 = (6, 6)\n",
    "\n",
    "distance_btw_points(point1, point2)"
   ]
  },
  {
   "cell_type": "code",
   "execution_count": 7,
   "metadata": {},
   "outputs": [
    {
     "name": "stdout",
     "output_type": "stream",
     "text": [
      "Mon, 01 Jan 2018 20:13:19\n",
      "Mon Jan  1 20:13:19 2018\n"
     ]
    }
   ],
   "source": [
    "# Print out the current time in formatted style\n",
    "\n",
    "import time\n",
    "print(time.strftime(\"%a, %d %b %Y %H:%M:%S\"))\n",
    "\n",
    "# or\n",
    "\n",
    "print(time.ctime())\n",
    "\n",
    "# %a : abbreviated weekday name\n",
    "# %A : Full weekday name\n",
    "# %b : abbreviated month name\n",
    "# %B : full month name\n",
    "# %d : Day of the month as a decimal number [01, 31]\n",
    "# %H : Hour [00 ,23]\n",
    "# %I : Hour [01, 12]\n",
    "# %m : Month [01, 12]\n",
    "# %M : Minute [00, 59]\n",
    "\n"
   ]
  },
  {
   "cell_type": "code",
   "execution_count": 8,
   "metadata": {},
   "outputs": [
    {
     "name": "stdout",
     "output_type": "stream",
     "text": [
      "6\n",
      "14\n"
     ]
    }
   ],
   "source": [
    "# Write a Python program to calculate the sum of the digits of a integer shaped string\n",
    "\n",
    "def digit_sum(n):\n",
    "    s = 0\n",
    "    for i in range(len(n)):\n",
    "        s += int(n[i])\n",
    "    return s\n",
    "\n",
    "print(digit_sum(\"123\"))\n",
    "print(digit_sum(\"590\"))"
   ]
  },
  {
   "cell_type": "code",
   "execution_count": 9,
   "metadata": {},
   "outputs": [
    {
     "name": "stdout",
     "output_type": "stream",
     "text": [
      "Product of the list of integers :  120\n"
     ]
    }
   ],
   "source": [
    "# Write a Python program to compute the product of a list of integers (without using for loop)\n",
    "\n",
    "def integer_list_product(lst):\n",
    "    from functools import reduce\n",
    "    nums_product = reduce((lambda x,y: x * y), lst)\n",
    "    print(\"Product of the list of integers : \", nums_product)\n",
    "\n",
    "integer_list_product([1, 2, 3, 4, 5])    "
   ]
  },
  {
   "cell_type": "code",
   "execution_count": 10,
   "metadata": {},
   "outputs": [
    {
     "data": {
      "text/plain": [
       "{'.': 1, 'c': 1, 'e': 1, 'g': 2, 'l': 1, 'm': 1, 'o': 3}"
      ]
     },
     "execution_count": 10,
     "metadata": {},
     "output_type": "execute_result"
    }
   ],
   "source": [
    "# Write a Python program to count the number of characters (character frequency) in a string in dictionary format\n",
    "\n",
    "def char_frequency(str1):\n",
    "    dictionary = {}\n",
    "    for n in str1:\n",
    "        keys = dictionary.keys()\n",
    "        if n in keys:\n",
    "            dictionary[n] += 1\n",
    "        else:\n",
    "            dictionary[n] = 1\n",
    "    return dictionary\n",
    "\n",
    "char_frequency('google.com')"
   ]
  },
  {
   "cell_type": "code",
   "execution_count": 11,
   "metadata": {},
   "outputs": [
    {
     "data": {
      "text/plain": [
       "9"
      ]
     },
     "execution_count": 11,
     "metadata": {},
     "output_type": "execute_result"
    }
   ],
   "source": [
    "# Write a Python function that takes a list of words and returns the length of the longest one\n",
    "\n",
    "def longest(lst):\n",
    "    length = []\n",
    "    for n in lst:\n",
    "        length.append(len(n))\n",
    "    return max(length)\n",
    "\n",
    "longest(['ang','hang','hoot','barack','barrage','claire','aristotle'])"
   ]
  },
  {
   "cell_type": "code",
   "execution_count": 12,
   "metadata": {},
   "outputs": [
    {
     "name": "stdout",
     "output_type": "stream",
     "text": [
      "{'josh': 2, 'is': 2, 'a': 2, 'vassar': 1, 'college': 1, 'student': 2, 'Thus': 1, 'great': 1}\n"
     ]
    }
   ],
   "source": [
    "# 12 : Write a Python program to count the occurrences of each word in a given sentence\n",
    "\n",
    "def word_count(string):\n",
    "    counts = dict()\n",
    "    words = string.split()\n",
    "\n",
    "    for word in words:\n",
    "        if word in counts:\n",
    "            counts[word] += 1\n",
    "        else:\n",
    "            counts[word] = 1\n",
    "\n",
    "    return counts\n",
    "\n",
    "print(word_count('josh is a vassar college student Thus josh is a great student'))"
   ]
  },
  {
   "cell_type": "code",
   "execution_count": 13,
   "metadata": {},
   "outputs": [
    {
     "data": {
      "text/plain": [
       "'REVITALIZATION'"
      ]
     },
     "execution_count": 13,
     "metadata": {},
     "output_type": "execute_result"
    }
   ],
   "source": [
    "# Write a Python function to convert a given string to all uppercase \n",
    "# if it contains at least 2 uppercase characters in the first 4 characters.\n",
    "\n",
    "def to_uppercase_if(string):\n",
    "    num_upper = 0\n",
    "    for letter in string[:4]: \n",
    "        if letter.upper() == letter:\n",
    "            num_upper += 1\n",
    "    if num_upper >= 2:\n",
    "        return string.upper()\n",
    "    return string\n",
    "\n",
    "to_uppercase_if(\"REVitalization\")"
   ]
  },
  {
   "cell_type": "code",
   "execution_count": 14,
   "metadata": {},
   "outputs": [
    {
     "data": {
      "text/plain": [
       "'lufituaeb si efil'"
      ]
     },
     "execution_count": 14,
     "metadata": {},
     "output_type": "execute_result"
    }
   ],
   "source": [
    "# Write a Python program to reverse words in a string\n",
    "\n",
    "def reverse(string):\n",
    "    result = \"\"\n",
    "    for n in range(1, len(string)):\n",
    "        result += string[-n]\n",
    "    return result + string[0]        \n",
    "\n",
    "reverse('life is beautiful')"
   ]
  },
  {
   "cell_type": "code",
   "execution_count": 15,
   "metadata": {},
   "outputs": [
    {
     "data": {
      "text/plain": [
       "{'e': 3, 'h': 2, 'o': 4, 'r': 2, 't': 2, 'u': 2}"
      ]
     },
     "execution_count": 15,
     "metadata": {},
     "output_type": "execute_result"
    }
   ],
   "source": [
    "# Write a python program to count repeated characters in a string in dictionary format (not including whitespace)\n",
    "\n",
    "def count_repeat_char(str1):\n",
    "    str1 = str1.strip()\n",
    "    str1 = str1.replace(' ', '')\n",
    "    result = dict()\n",
    "    for i in str1:\n",
    "        if i in result:\n",
    "            result[i] += 1\n",
    "        else:\n",
    "            result[i] = 1\n",
    "    return {k:v for (k,v) in result.items() if v > 1}\n",
    "\n",
    "count_repeat_char('the quick brown fox jumps over the lazy dog')"
   ]
  },
  {
   "cell_type": "code",
   "execution_count": 16,
   "metadata": {
    "scrolled": false
   },
   "outputs": [
    {
     "name": "stdout",
     "output_type": "stream",
     "text": [
      "Guess a number from 1 and 9 until you get it right : 1\n",
      "Guess a number from 1 and 9 until you get it right : 2\n",
      "Guess a number from 1 and 9 until you get it right : 3\n",
      "Guess a number from 1 and 9 until you get it right : 4\n",
      "Guess a number from 1 and 9 until you get it right : 5\n",
      "Well guessed!\n"
     ]
    }
   ],
   "source": [
    "# Write a Python program to guess a number between 1 to 9\n",
    "\n",
    "def guess_rand_num():    \n",
    "    import random\n",
    "    guess = int(input('Guess a number from 1 and 9 until you get it right : '))\n",
    "    target_num = random.randint(1, 10)\n",
    "    if guess not in list(range(1,10)):\n",
    "        print(\"Guess a number within the appropriate range\")\n",
    "        guess_rand_num()\n",
    "    elif target_num == guess:\n",
    "        print('Well guessed!')\n",
    "    else:\n",
    "        guess_rand_num()\n",
    "                \n",
    "guess_rand_num()"
   ]
  },
  {
   "cell_type": "code",
   "execution_count": 17,
   "metadata": {},
   "outputs": [
    {
     "name": "stdout",
     "output_type": "stream",
     "text": [
      "\n",
      "* \n",
      "* * \n",
      "* * * \n",
      "* * * * \n",
      "* * * * * \n",
      "* * * * \n",
      "* * * \n",
      "* * \n",
      "* \n"
     ]
    }
   ],
   "source": [
    "# Write a Python program to construct the following pattern, using a nested for loop.\n",
    "\n",
    "# * \n",
    "# * * \n",
    "# * * * \n",
    "# * * * * \n",
    "# * * * * * \n",
    "# * * * * \n",
    "# * * * \n",
    "# * * \n",
    "# *\n",
    "\n",
    "for i in range(5):\n",
    "    for j in range(i):\n",
    "        print ('* ', end=\"\")\n",
    "    print('')\n",
    "\n",
    "for i in range(5,0,-1):\n",
    "    for j in range(i):\n",
    "        print('* ', end=\"\")\n",
    "    print('')"
   ]
  },
  {
   "cell_type": "code",
   "execution_count": 18,
   "metadata": {},
   "outputs": [
    {
     "name": "stdout",
     "output_type": "stream",
     "text": [
      "Input a stringPython 3.2\n",
      "Letters 6\n",
      "Digits 2\n"
     ]
    }
   ],
   "source": [
    "# Write a Python program that accepts a string and calculate the number of digits and letters\n",
    "\n",
    "def digit_letter_num_calcul():\n",
    "    string = input(\"Input a string\")\n",
    "    d = l = 0\n",
    "    for c in string:\n",
    "        if c.isdigit():\n",
    "            d += 1\n",
    "        elif c.isalpha():\n",
    "            l += 1\n",
    "        else:\n",
    "            pass\n",
    "    print(\"Letters\", l)\n",
    "    print(\"Digits\", d)\n",
    "        \n",
    "digit_letter_num_calcul()"
   ]
  },
  {
   "cell_type": "code",
   "execution_count": 19,
   "metadata": {},
   "outputs": [
    {
     "name": "stdout",
     "output_type": "stream",
     "text": [
      "Input your password : djfekjr23\n",
      "Not a Valid Password\n"
     ]
    }
   ],
   "source": [
    "# Write a Python program to check the validity of password input by users. \n",
    "\n",
    "# At least 1 letter between [a-z] and 1 letter between [A-Z].\n",
    "# At least 1 number between [0-9].\n",
    "# At least 1 character from [$#@].\n",
    "# Minimum length 6 characters.\n",
    "# Maximum length 16 characters.\n",
    "\n",
    "def pw_validation():\n",
    "    import re\n",
    "    pw= input(\"Input your password : \")\n",
    "    x = True\n",
    "    while x:  \n",
    "        if (len(pw)< 6 or len(pw) > 12):\n",
    "            break\n",
    "        elif not re.search(\"[a-z]\",pw):\n",
    "            break\n",
    "        elif not re.search(\"[0-9]\",pw):\n",
    "            break\n",
    "        elif not re.search(\"[A-Z]\",pw):\n",
    "            break\n",
    "        elif not re.search(\"[$#@]\",pw):\n",
    "            break\n",
    "        elif re.search(\"\\s\",pw):\n",
    "            break\n",
    "        else:\n",
    "            print(\"Valid Password\")\n",
    "            x = False\n",
    "            break\n",
    "    if x:\n",
    "        print(\"Not a Valid Password\")\n",
    "\n",
    "pw_validation()"
   ]
  },
  {
   "cell_type": "code",
   "execution_count": 20,
   "metadata": {},
   "outputs": [
    {
     "name": "stdout",
     "output_type": "stream",
     "text": [
      "Input a letter of the alphabet: anghang\n",
      "anghang has at least one vowel\n"
     ]
    }
   ],
   "source": [
    "# Make a program that checks whether a string has at least one vowel\n",
    "\n",
    "def check_at_least_one_vowel():\n",
    "    word = input(\"Input a letter of the alphabet: \")\n",
    "    if any(i in word for i in ['a','e','i','o','u']) == True:\n",
    "        print(word, \"has at least one vowel\")\n",
    "    else:\n",
    "        print(word, \"only has consonants\")\n",
    "        \n",
    "check_at_least_one_vowel()"
   ]
  },
  {
   "cell_type": "code",
   "execution_count": 21,
   "metadata": {},
   "outputs": [
    {
     "name": "stdout",
     "output_type": "stream",
     "text": [
      "<b><i><u>hello world</u></i></b>\n"
     ]
    }
   ],
   "source": [
    "# Write a Python program to make a chain of function decorators (bold, italic, underline etc.) in Python\n",
    "\n",
    "def make_bold(fn):  \n",
    "    def wrapper():  \n",
    "        return \"<b>\" + fn() + \"</b>\"  \n",
    "    return wrapper  \n",
    "  \n",
    "def make_italic(fn):  \n",
    "    def wrapper():  \n",
    "        return \"<i>\" + fn() + \"</i>\"  \n",
    "    return wrapper  \n",
    "  \n",
    "def make_underline(fn):  \n",
    "    def wrapper():  \n",
    "        return \"<u>\" + fn() + \"</u>\"  \n",
    "    return wrapper\n",
    "\n",
    "@make_bold  \n",
    "@make_italic  \n",
    "@make_underline  \n",
    "\n",
    "def hello():  \n",
    "    return \"hello world\"  \n",
    "\n",
    "print(hello())"
   ]
  },
  {
   "cell_type": "code",
   "execution_count": 22,
   "metadata": {},
   "outputs": [
    {
     "name": "stdout",
     "output_type": "stream",
     "text": [
      "{'a': 400, 'b': 400, 'c': 300, 'd': 400}\n"
     ]
    }
   ],
   "source": [
    "# Write a Python program to combine two dictionary adding values for common keys\n",
    "\n",
    "def combine_dict(d1, d2):\n",
    "    from collections import Counter\n",
    "    d = Counter(d1) + Counter(d2)\n",
    "    print(dict(d))\n",
    "\n",
    "dict1 = {'a': 100, 'b': 200, 'c':300}\n",
    "dict2 = {'a': 300, 'b': 200, 'd':400}\n",
    "\n",
    "combine_dict(dict1, dict2)"
   ]
  },
  {
   "cell_type": "code",
   "execution_count": 23,
   "metadata": {},
   "outputs": [
    {
     "name": "stdout",
     "output_type": "stream",
     "text": [
      "item4 55\n",
      "item1 45.5\n",
      "item3 41.3\n"
     ]
    }
   ],
   "source": [
    "# Write a Python program to get the top three items in a shop\n",
    "\n",
    "from heapq import nlargest  \n",
    "from operator import itemgetter\n",
    "\n",
    "def top3_items(items):\n",
    "    for name, value in nlargest(3, items.items(), key=itemgetter(1)):\n",
    "        print(name, value)\n",
    "        \n",
    "item_lst = {'item1': 45.50, 'item2':35, 'item3': 41.30, 'item4':55, 'item5': 24}\n",
    "\n",
    "top3_items(item_lst)"
   ]
  },
  {
   "cell_type": "code",
   "execution_count": 24,
   "metadata": {},
   "outputs": [
    {
     "name": "stdout",
     "output_type": "stream",
     "text": [
      "[(1, 2, 3, 4), (1, 2, 4, 3), (1, 3, 2, 4), (1, 3, 4, 2), (1, 4, 2, 3), (1, 4, 3, 2), (2, 1, 3, 4), (2, 1, 4, 3), (2, 3, 1, 4), (2, 3, 4, 1), (2, 4, 1, 3), (2, 4, 3, 1), (3, 1, 2, 4), (3, 1, 4, 2), (3, 2, 1, 4), (3, 2, 4, 1), (3, 4, 1, 2), (3, 4, 2, 1), (4, 1, 2, 3), (4, 1, 3, 2), (4, 2, 1, 3), (4, 2, 3, 1), (4, 3, 1, 2), (4, 3, 2, 1)]\n"
     ]
    }
   ],
   "source": [
    "# Make a function that returns the list of possible permutations of input numbers\n",
    "\n",
    "def permutation(lst):\n",
    "    import itertools\n",
    "    print(list(itertools.permutations(lst)))\n",
    "    \n",
    "permutation([1,2,3,4])"
   ]
  },
  {
   "cell_type": "code",
   "execution_count": 25,
   "metadata": {},
   "outputs": [
    {
     "name": "stdout",
     "output_type": "stream",
     "text": [
      "4\n",
      "finance\n"
     ]
    }
   ],
   "source": [
    "# Make a function that shuffles the elements of the input list and picks one\n",
    "\n",
    "def shuffle_and_pick(lst):\n",
    "    import random\n",
    "    random.shuffle(lst)\n",
    "    return random.choice(lst)\n",
    "\n",
    "print(shuffle_and_pick([1,2,3,4,5,6]))\n",
    "print(shuffle_and_pick(['finance','accounting','comp sci','engineering','arts']))"
   ]
  }
 ],
 "metadata": {
  "kernelspec": {
   "display_name": "Python 3",
   "language": "python",
   "name": "python3"
  },
  "language_info": {
   "codemirror_mode": {
    "name": "ipython",
    "version": 3
   },
   "file_extension": ".py",
   "mimetype": "text/x-python",
   "name": "python",
   "nbconvert_exporter": "python",
   "pygments_lexer": "ipython3",
   "version": "3.6.1"
  }
 },
 "nbformat": 4,
 "nbformat_minor": 2
}
