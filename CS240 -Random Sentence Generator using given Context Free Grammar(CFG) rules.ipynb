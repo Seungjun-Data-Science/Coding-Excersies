{
 "cells": [
  {
   "cell_type": "code",
   "execution_count": 96,
   "metadata": {},
   "outputs": [],
   "source": [
    "import sys\n",
    "import fileinput\n",
    "import random\n",
    "import re\n",
    "import pandas as pd"
   ]
  },
  {
   "cell_type": "code",
   "execution_count": 97,
   "metadata": {},
   "outputs": [],
   "source": [
    "filename = 'bond.txt'"
   ]
  },
  {
   "cell_type": "code",
   "execution_count": 98,
   "metadata": {},
   "outputs": [
    {
     "data": {
      "text/plain": [
       "<function TextIOWrapper.close>"
      ]
     },
     "execution_count": 98,
     "metadata": {},
     "output_type": "execute_result"
    }
   ],
   "source": [
    "f = open(filename, \"r\")\n",
    "lines = f.readlines()\n",
    "f.close"
   ]
  },
  {
   "cell_type": "code",
   "execution_count": 99,
   "metadata": {},
   "outputs": [],
   "source": [
    "grammar = {}\n",
    "\n",
    "for line in lines:\n",
    "    \n",
    "    if not line.strip():\n",
    "        continue\n",
    "    \n",
    "    head, bodies = line.strip().split(\" -> \")\n",
    "    bodies = bodies.split(\" | \")\n",
    "    grammar[head] = bodies"
   ]
  },
  {
   "cell_type": "code",
   "execution_count": 107,
   "metadata": {},
   "outputs": [
    {
     "name": "stdout",
     "output_type": "stream",
     "text": [
      "<start>\n",
      "<exposition> <conflict> <escape> <conclusion> \n",
      "<bad-guy> <insane-plan> <conflict> <escape> <conclusion>  \n",
      "<bad-guy> <insane-plan> <conflict> <escape> Finally, with only <not-much-time> to spare, Bond <saves-the-day>   \n",
      "<bad-guy> <wants> <something-bad> by <something-absurd> <conflict> <golly-gee> he escapes by <some-trick> Finally, with only <not-much-time> to spare, Bond <saves-the-day>    \n",
      "<bad-guy> <wants> <something-bad> by <something-absurd> <friendly-meeting> <female-interest> <danger> <golly-gee> he escapes by <some-trick> Finally, with only <not-much-time> to spare, Bond <saves-the-day>     \n",
      "<adjective-of-evil> <title> <wants> take over the world by assassinating <someone-important> <friendly-meeting> <female-interest> <danger> Incredibly, he escapes by <some-trick> Finally, with only <not-much-time> to spare, Bond <saves-the-day>      \n",
      "<adjective-of-evil> <title> <wants> take over the world by assassinating <someone-important> <friendly-meeting> <female-interest> <danger> Incredibly, he escapes by <some-trick> Finally, with only <not-much-time> to spare, Bond <saves-the-day>       \n",
      "<adjective-of-evil> <title> <wants> take over the world by assassinating <someone-important> <friendly-meeting> <female-interest> <danger> Incredibly, he escapes by <some-trick> Finally, with only <not-much-time> to spare, Bond <saves-the-day>        \n",
      "<adjective-of-evil> <title> <wants> take over the world by assassinating <someone-important> <friendly-meeting> <female-interest> <time> Bond is <taken> and <bizarre-threat> Incredibly, he escapes by <some-trick> Finally, with only <not-much-time> to spare, Bond <saves-the-day>         \n",
      "<adjective-of-evil> <title> <wants> take over the world by assassinating <someone-important> <friendly-meeting> <female-interest> <time> Bond is <taken> and <bizarre-threat> Incredibly, he escapes by <some-trick> Finally, with only <not-much-time> to spare, Bond <saves-the-day>          \n",
      "<adjective-of-evil> <title> <wants> take over the world by assassinating <someone-important> <friendly-meeting> <female-interest> <time> Bond is <taken> and <bizarre-threat> Incredibly, he escapes by <some-trick> Finally, with only <not-much-time> to spare, Bond <saves-the-day>           \n",
      "A twisted <title> <wants> take over the world by assassinating the Prime Minister. <friendly-meeting> <female-interest> <time> Bond is <taken> and chained to a bomb. Incredibly, he escapes by <some-trick> Finally, with only <not-much-time> to spare, Bond <saves-the-day>            \n",
      "A twisted <title> <wants> take over the world by assassinating the Prime Minister. <friendly-meeting> <female-interest> <time> Bond is drugged by the female interest and chained to a bomb. Incredibly, he escapes by <some-trick> Finally, with only <not-much-time> to spare, Bond <saves-the-day>             \n",
      "A twisted <title> <wants> take over the world by assassinating the Prime Minister. <friendly-meeting> <female-interest> <time> Bond is drugged by the female interest and chained to a bomb. Incredibly, he escapes by <some-trick> Finally, with only <not-much-time> to spare, Bond <saves-the-day>              \n",
      "A twisted <title> <wants> take over the world by assassinating the Prime Minister. <friendly-meeting> <female-interest> <time> Bond is drugged by the female interest and chained to a bomb. Incredibly, he escapes by <some-trick> Finally, with only <not-much-time> to spare, Bond <saves-the-day>               \n",
      "A twisted <title> <wants> take over the world by assassinating the Prime Minister. <friendly-meeting> <time> Bond meets a <attractive> <someone> whom he <likes> <time> Bond is drugged by the female interest and chained to a bomb. Incredibly, he escapes by <some-trick> Finally, with only 007 seconds to spare, Bond <saves-the-day>                \n",
      "A twisted <title> attempts to take over the world by assassinating the Prime Minister. <friendly-meeting> <time> Bond meets a <attractive> <someone> whom he <likes> During this time, Bond is drugged by the female interest and chained to a bomb. Incredibly, he escapes by <some-trick> Finally, with only 007 seconds to spare, Bond <saves-the-day>                 \n",
      "A twisted <title> attempts to take over the world by assassinating the Prime Minister. <friendly-meeting> <time> Bond meets a steel-jawed <someone> whom he <likes> During this time, Bond is drugged by the female interest and chained to a bomb. Incredibly, he escapes by <some-trick> Finally, with only 007 seconds to spare, Bond <saves-the-day>                  \n",
      "A twisted <title> attempts to take over the world by assassinating the Prime Minister. <friendly-meeting> During this time, Bond meets a steel-jawed <someone> whom he <likes> During this time, Bond is drugged by the female interest and chained to a bomb. Incredibly, he escapes by <some-trick> Finally, with only 007 seconds to spare, Bond <saves-the-day>                   \n",
      "A twisted <title> attempts to take over the world by assassinating the Prime Minister. <friendly-meeting> During this time, Bond meets a steel-jawed <someone> whom he <likes> During this time, Bond is drugged by the female interest and chained to a bomb. Incredibly, he escapes by <some-trick> Finally, with only 007 seconds to spare, Bond <saves-the-day>                    \n",
      "A twisted <title> attempts to take over the world by assassinating the Prime Minister. <friendly-meeting> During this time, Bond meets a steel-jawed <someone> whom he <likes> During this time, Bond is drugged by the female interest and chained to a bomb. Incredibly, he escapes by <some-trick> Finally, with only 007 seconds to spare, Bond <saves-the-day>                     \n",
      "A twisted <title> attempts to take over the world by assassinating the Prime Minister. <friendly-meeting> During this time, Bond meets a steel-jawed <someone> whom he seduces. During this time, Bond is drugged by the female interest and chained to a bomb. Incredibly, he escapes by <some-trick> Finally, with only 007 seconds to spare, Bond <saves-the-day>                      \n",
      "A twisted industrialist attempts to take over the world by assassinating the Prime Minister. Bond <finds-the-bad-guy> and they <social-action> During this time, Bond meets a steel-jawed mistress of the Bad Guy, whom he seduces. During this time, Bond is drugged by the female interest and chained to a bomb. Incredibly, he escapes by <some-trick> Finally, with only 007 seconds to spare, Bond destroys the incoming missiles.                       \n",
      "A twisted industrialist attempts to take over the world by assassinating the Prime Minister. Bond <finds-the-bad-guy> and they <social-action> During this time, Bond meets a steel-jawed mistress of the Bad Guy, whom he seduces. During this time, Bond is drugged by the female interest and chained to a bomb. Incredibly, he escapes by <awesome-display-of-derring-do> Finally, with only 007 seconds to spare, Bond destroys the incoming missiles.                        \n",
      "A twisted industrialist attempts to take over the world by assassinating the Prime Minister. Bond meets his foe for the first time and they <social-action> During this time, Bond meets a steel-jawed mistress of the Bad Guy, whom he seduces. During this time, Bond is drugged by the female interest and chained to a bomb. Incredibly, he escapes by riding a motorcycle off a cliff. Finally, with only 007 seconds to spare, Bond destroys the incoming missiles.                         \n",
      "A twisted industrialist attempts to take over the world by assassinating the Prime Minister. Bond meets his foe for the first time and they exhange veiled threats. During this time, Bond meets a steel-jawed mistress of the Bad Guy, whom he seduces. During this time, Bond is drugged by the female interest and chained to a bomb. Incredibly, he escapes by riding a motorcycle off a cliff. Finally, with only 007 seconds to spare, Bond destroys the incoming missiles.                          \n"
     ]
    }
   ],
   "source": [
    "string = '<start>'\n",
    "print(string)\n",
    "\n",
    "while '<' in string:\n",
    "    sentence = ''\n",
    "    sentence_split = string.split(\" \")\n",
    "    for word in sentence_split:\n",
    "        Series = pd.Series(sentence_split)\n",
    "        expansion_word = random.choice(Series[Series.str.startswith('<')].tolist())\n",
    "        if word == expansion_word:\n",
    "            sentence = sentence + random.choice(grammar[word]) + \" \"\n",
    "        else:\n",
    "            sentence = sentence + word + \" \"\n",
    "    \n",
    "    print(sentence)\n",
    "\n",
    "    string = sentence"
   ]
  }
 ],
 "metadata": {
  "kernelspec": {
   "display_name": "Python 3",
   "language": "python",
   "name": "python3"
  },
  "language_info": {
   "codemirror_mode": {
    "name": "ipython",
    "version": 3
   },
   "file_extension": ".py",
   "mimetype": "text/x-python",
   "name": "python",
   "nbconvert_exporter": "python",
   "pygments_lexer": "ipython3",
   "version": "3.6.6"
  }
 },
 "nbformat": 4,
 "nbformat_minor": 2
}
