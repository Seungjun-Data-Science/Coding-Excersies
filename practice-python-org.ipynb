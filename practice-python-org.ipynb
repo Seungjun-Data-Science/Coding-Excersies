{
 "cells": [
  {
   "cell_type": "markdown",
   "metadata": {},
   "source": [
    "(1) Take a list, say for example this one:\n",
    "\n",
    "a = [1, 1, 2, 3, 5, 8, 13, 21, 34, 55, 89] \n",
    "and write a program that prints out all the elements of the list that are less than 5.\n",
    "\n",
    "Instead of printing the elements one by one, make a new list that has all the elements less than 5 from this list in it and print out this new list. Write this in one line of Python."
   ]
  },
  {
   "cell_type": "code",
   "execution_count": 1,
   "metadata": {},
   "outputs": [
    {
     "data": {
      "text/plain": [
       "[1, 1, 2, 3]"
      ]
     },
     "execution_count": 1,
     "metadata": {},
     "output_type": "execute_result"
    }
   ],
   "source": [
    "L = [1, 1, 2, 3, 5, 8, 13, 21, 34, 55, 89] \n",
    "\n",
    "[e for e in L if e < 5]"
   ]
  },
  {
   "cell_type": "markdown",
   "metadata": {},
   "source": [
    "(2) Create a program that asks the user for a number and then prints out a list of all the divisors of that number. (If you don’t know what a divisor is, it is a number that divides evenly into another number. For example, 13 is a divisor of 26 because 26 / 13 has no remainder.)"
   ]
  },
  {
   "cell_type": "code",
   "execution_count": 5,
   "metadata": {},
   "outputs": [
    {
     "name": "stdout",
     "output_type": "stream",
     "text": [
      "Which number do you want?52\n"
     ]
    },
    {
     "data": {
      "text/plain": [
       "[1, 2, 4, 13, 26]"
      ]
     },
     "execution_count": 5,
     "metadata": {},
     "output_type": "execute_result"
    }
   ],
   "source": [
    "n = input(\"Which number do you want?\")\n",
    "[e for e in list(range(1,int(n))) if int(n) % e == 0]"
   ]
  },
  {
   "cell_type": "markdown",
   "metadata": {},
   "source": [
    "(3) Let’s say I give you a list saved in a variable: a = [1, 4, 9, 16, 25, 36, 49, 64, 81, 100]. Write one line of Python that takes this list a and makes a new list that has only the even elements of this list in it."
   ]
  },
  {
   "cell_type": "code",
   "execution_count": 6,
   "metadata": {},
   "outputs": [
    {
     "data": {
      "text/plain": [
       "[4, 16, 36, 64, 100]"
      ]
     },
     "execution_count": 6,
     "metadata": {},
     "output_type": "execute_result"
    }
   ],
   "source": [
    "L2 = [1, 4, 9, 16, 25, 36, 49, 64, 81, 100]\n",
    "[e for e in L2 if e % 2 == 0]"
   ]
  },
  {
   "cell_type": "markdown",
   "metadata": {},
   "source": [
    "(4) Generate a random number between 1 and 9 (including 1 and 9). Ask the user to guess the number, then tell them whether they guessed too low, too high, or exactly right. "
   ]
  },
  {
   "cell_type": "code",
   "execution_count": 10,
   "metadata": {},
   "outputs": [
    {
     "name": "stdout",
     "output_type": "stream",
     "text": [
      "Make your first guess from 1 to 9: 2\n",
      "Your guess is lower than the random number.\n",
      "Guess again from 1 to 9: 5\n",
      "Your guess is lower than the random number.\n",
      "Guess again from 1 to 9: 6\n",
      "Your guess is lower than the random number.\n",
      "Guess again from 1 to 9: 1\n",
      "Your guess is lower than the random number.\n",
      "Guess again from 1 to 9: 2\n",
      "Your guess is lower than the random number.\n",
      "Guess again from 1 to 9: 3\n",
      "Your guess is lower than the random number.\n",
      "Guess again from 1 to 9: 4\n",
      "Your guess is lower than the random number.\n",
      "Guess again from 1 to 9: 5\n",
      "Your guess is lower than the random number.\n",
      "Guess again from 1 to 9: 6\n",
      "Your guess is lower than the random number.\n",
      "Guess again from 1 to 9: 7\n",
      "Your guess is lower than the random number.\n",
      "Guess again from 1 to 9: 8\n",
      "Your guess is lower than the random number.\n",
      "Guess again from 1 to 9: 9\n"
     ]
    }
   ],
   "source": [
    "import random\n",
    "\n",
    "rand = random.randint(1, 9)\n",
    "guess = int(input(\"Make your first guess from 1 to 9: \"))\n",
    "while guess != rand:\n",
    "    if rand > guess:\n",
    "        print(\"Your guess is lower than the random number.\")\n",
    "        guess = int(input(\"Guess again from 1 to 9: \")) \n",
    "    elif rand < guess:\n",
    "        print(\"Your gues is higher than the random number.\")\n",
    "        guess = int(input(\"Guess again from 1 to 9: \"))\n",
    "    else:\n",
    "        print(\"You guessed right!\")\n",
    "        break"
   ]
  },
  {
   "cell_type": "code",
   "execution_count": null,
   "metadata": {},
   "outputs": [],
   "source": []
  },
  {
   "cell_type": "code",
   "execution_count": null,
   "metadata": {},
   "outputs": [],
   "source": []
  },
  {
   "cell_type": "code",
   "execution_count": null,
   "metadata": {},
   "outputs": [],
   "source": []
  },
  {
   "cell_type": "code",
   "execution_count": null,
   "metadata": {},
   "outputs": [],
   "source": []
  }
 ],
 "metadata": {
  "kernelspec": {
   "display_name": "Python 3",
   "language": "python",
   "name": "python3"
  },
  "language_info": {
   "codemirror_mode": {
    "name": "ipython",
    "version": 3
   },
   "file_extension": ".py",
   "mimetype": "text/x-python",
   "name": "python",
   "nbconvert_exporter": "python",
   "pygments_lexer": "ipython3",
   "version": "3.6.6"
  }
 },
 "nbformat": 4,
 "nbformat_minor": 2
}
